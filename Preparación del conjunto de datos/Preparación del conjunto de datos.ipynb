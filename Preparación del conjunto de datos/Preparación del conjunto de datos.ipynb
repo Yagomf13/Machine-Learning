{
 "cells": [
  {
   "cell_type": "code",
   "execution_count": 1,
   "id": "d7baf6ac-8acd-4bf9-9b09-23a4c58da7b1",
   "metadata": {},
   "outputs": [],
   "source": [
    "import arff\n",
    "import pandas as pd\n",
    "import numpy as np\n",
    "from sklearn.model_selection import train_test_split"
   ]
  },
  {
   "cell_type": "code",
   "execution_count": null,
   "id": "467662ca-cd32-4dad-8022-dc732ca940bb",
   "metadata": {},
   "outputs": [],
   "source": []
  },
  {
   "cell_type": "markdown",
   "id": "22e8b7d3-1b3e-4ab1-8aa5-38db39a13b9b",
   "metadata": {},
   "source": [
    "## Funciones auxiliares"
   ]
  },
  {
   "cell_type": "code",
   "execution_count": 2,
   "id": "e42f4f4d-ba82-4a78-85e4-73c815b6dc6a",
   "metadata": {},
   "outputs": [],
   "source": [
    "def load_kdd_dataset(data_path):\n",
    "    \"\"\"Lectura del conjunto de datos NSL-KDD.\"\"\"\n",
    "    with open(data_path, 'r') as train_set:\n",
    "        dataset = arff.load(train_set)\n",
    "    attributes = [attr[0] for attr in dataset[\"attributes\"]]\n",
    "    return pd.DataFrame(dataset[\"data\"], columns=attributes)"
   ]
  },
  {
   "cell_type": "code",
   "execution_count": 3,
   "id": "75ab67bd-b7fa-4ff8-801e-70c5da024c08",
   "metadata": {},
   "outputs": [],
   "source": [
    "def train_val_test_split(df, rstate=42, shuffle=True, stratify=None):\n",
    "    strat = df[stratify] if stratify else None\n",
    "    train_set, test_set = train_test_split(\n",
    "        df, test_size=0.4, random_state=rstate, shuffle=shuffle, stratify=strat)\n",
    "    strat = test_set[stratify] if stratify else None\n",
    "    val_set, test_set = train_test_split(\n",
    "        test_set, test_size=0.5, random_state=rstate, shuffle=shuffle, stratify=strat)\n",
    "    return (train_set, val_set, test_set)"
   ]
  },
  {
   "cell_type": "code",
   "execution_count": null,
   "id": "20c68806-1444-4379-b963-c0387f1a2084",
   "metadata": {},
   "outputs": [],
   "source": []
  },
  {
   "cell_type": "markdown",
   "id": "8c522395-8198-4e62-8df0-1f76ec7aa328",
   "metadata": {},
   "source": [
    "## 1. Lectura del conjunto de datos"
   ]
  },
  {
   "cell_type": "code",
   "execution_count": null,
   "id": "c47d0ed7-c183-4118-849f-38e10420e230",
   "metadata": {},
   "outputs": [],
   "source": [
    "df = load_kdd_dataset(\"datasets/NSL-KDD/KDDTrain+.arff\")"
   ]
  },
  {
   "cell_type": "code",
   "execution_count": null,
   "id": "a1c95511-9d5f-4af6-80bd-821dc045428f",
   "metadata": {},
   "outputs": [],
   "source": [
    "df"
   ]
  },
  {
   "cell_type": "code",
   "execution_count": null,
   "id": "fc3b5555-25e6-435f-80ec-81b8ceee0738",
   "metadata": {},
   "outputs": [],
   "source": []
  },
  {
   "cell_type": "markdown",
   "id": "8f297a37-fb64-44d1-8a8a-b2bcbe6767fd",
   "metadata": {},
   "source": [
    "## 2. División del conjunto de datos"
   ]
  },
  {
   "cell_type": "code",
   "execution_count": null,
   "id": "a541491c-96d7-4cee-b587-1412e70e04b1",
   "metadata": {},
   "outputs": [],
   "source": [
    "train_set, val_set, test_set = train_val_test_split(df, stratify='protocol_type')"
   ]
  },
  {
   "cell_type": "code",
   "execution_count": null,
   "id": "facc32b6-67b8-4878-a293-cf220c0b3212",
   "metadata": {},
   "outputs": [],
   "source": [
    "print(\"Longitud del Training Set:\", len(train_set))\n",
    "print(\"Longitud del Validation Set:\", len(val_set))\n",
    "print(\"Longitud del Test Set:\", len(test_set))"
   ]
  },
  {
   "cell_type": "code",
   "execution_count": null,
   "id": "31b68c5b-3748-4b3d-905f-fd3736856c73",
   "metadata": {},
   "outputs": [],
   "source": []
  },
  {
   "cell_type": "markdown",
   "id": "c5a396fc-443a-4d8b-841b-e55521c81837",
   "metadata": {},
   "source": [
    "## 3 Limpiando los datos"
   ]
  },
  {
   "cell_type": "code",
   "execution_count": null,
   "id": "5365e396-8d8e-44ba-b4e2-e035f3af278f",
   "metadata": {},
   "outputs": [],
   "source": [
    "# Separamos las características de entrada de la característica de salida\n",
    "X_train = train_set.drop(\"class\", axis=1)\n",
    "y_train = train_set[\"class\"].copy()"
   ]
  },
  {
   "cell_type": "code",
   "execution_count": null,
   "id": "b78c4070-7abf-41c5-860c-3a50adce3bbd",
   "metadata": {},
   "outputs": [],
   "source": [
    "# Para ilustrar esta sección vamos a añadir algunos valores nulos \n",
    "# a algunas características del conjunto de datos\n",
    "X_train.loc[(X_train[\"src_bytes\"]>400) & (X_train[\"src_bytes\"]<800), \"src_bytes\"] = np.nan\n",
    "X_train.loc[(X_train[\"dst_bytes\"]>500) & (X_train[\"dst_bytes\"]<2000), \"dst_bytes\"] = np.nan\n",
    "X_train"
   ]
  },
  {
   "cell_type": "code",
   "execution_count": null,
   "id": "bd72e661-eac0-4ae9-9581-215b99f41b6d",
   "metadata": {},
   "outputs": [],
   "source": [
    "# Comprobamos si existe algún atributo con valores nulos\n",
    "X_train.isna().any()"
   ]
  },
  {
   "cell_type": "code",
   "execution_count": null,
   "id": "b47ec991-2b6d-4c52-ac5e-dc126a09124e",
   "metadata": {},
   "outputs": [],
   "source": [
    "# Seleccionamos las filas que contienen valores nulos\n",
    "filas_valores_nulos  = X_train[X_train.isnull().any(axis=1)]\n",
    "filas_valores_nulos"
   ]
  },
  {
   "cell_type": "code",
   "execution_count": null,
   "id": "d7010841-6b1a-4af7-a9e8-8e013e24524c",
   "metadata": {},
   "outputs": [],
   "source": []
  },
  {
   "cell_type": "markdown",
   "id": "fbbf2033-ffdd-4ada-9510-c7a45293444e",
   "metadata": {},
   "source": [
    "### Opción 1: Eliminamos las filas con valores nulos"
   ]
  },
  {
   "cell_type": "code",
   "execution_count": null,
   "id": "261b39f2-9bf4-4958-8e66-e441c0ed6c3f",
   "metadata": {},
   "outputs": [],
   "source": [
    "# Copiamos el conjunto de datos para no alterar el original\n",
    "X_train_copy = X_train.copy()"
   ]
  },
  {
   "cell_type": "code",
   "execution_count": null,
   "id": "fe386ae9-4a6e-40fb-b005-3a6031509e3d",
   "metadata": {},
   "outputs": [],
   "source": [
    "# Eliminamos las filas con valores nulos\n",
    "X_train_copy.dropna(subset=[\"src_bytes\", \"dst_bytes\"], inplace=True)\n",
    "X_train_copy"
   ]
  },
  {
   "cell_type": "code",
   "execution_count": null,
   "id": "b8dd7cb3-00c7-45f1-965a-0ffd319c64dc",
   "metadata": {},
   "outputs": [],
   "source": [
    "# Contamos el número de filas eliminadas\n",
    "print(\"El número de filas eliminadas es:\", len(X_train) - len(X_train_copy))"
   ]
  },
  {
   "cell_type": "code",
   "execution_count": null,
   "id": "51ff93de-1d28-4c61-a03c-2f0f2d1ebe61",
   "metadata": {},
   "outputs": [],
   "source": []
  },
  {
   "cell_type": "markdown",
   "id": "072c8c4b-3d4d-447e-8e64-732326cabdac",
   "metadata": {},
   "source": [
    "### Opción 2: Eliminamos los atributos con valores nulos"
   ]
  },
  {
   "cell_type": "code",
   "execution_count": null,
   "id": "54a99ca0-4cb9-4d4f-80ca-f03a0381fe43",
   "metadata": {},
   "outputs": [],
   "source": [
    "# Copiamos el conjunto de datos para no alterar el original\n",
    "X_train_copy = X_train.copy()"
   ]
  },
  {
   "cell_type": "code",
   "execution_count": null,
   "id": "c544f6d0-1915-4d34-8b79-90ee0a24ea8f",
   "metadata": {},
   "outputs": [],
   "source": [
    "# Eliminamos los atributos con valores nulos\n",
    "X_train_copy.drop([\"src_bytes\", \"dst_bytes\"], axis=1, inplace=True)\n",
    "X_train_copy"
   ]
  },
  {
   "cell_type": "code",
   "execution_count": null,
   "id": "ef6f7c72-39fe-48f4-8182-de6ee2aac45c",
   "metadata": {},
   "outputs": [],
   "source": [
    "# Contamos el número de atributos eliminados\n",
    "print(\"El número de atributos eliminados es:\", len(list(X_train)) - len(list(X_train_copy)))"
   ]
  },
  {
   "cell_type": "code",
   "execution_count": null,
   "id": "25408af2-1e5e-4908-9cdb-4b202d80195e",
   "metadata": {},
   "outputs": [],
   "source": []
  },
  {
   "cell_type": "markdown",
   "id": "8944953b-d34c-4753-8322-0d97feb7c160",
   "metadata": {},
   "source": [
    "### Opción 3: Rellenamos los valores nulos con un valor determinado"
   ]
  },
  {
   "cell_type": "code",
   "execution_count": null,
   "id": "d733fbdb-491f-447a-8819-c3712aba6397",
   "metadata": {},
   "outputs": [],
   "source": [
    "# Copiamos el conjunto de datos para no alterar el original\n",
    "X_train_copy = X_train.copy()"
   ]
  },
  {
   "cell_type": "code",
   "execution_count": null,
   "id": "cc0b76c5-174d-48dd-884f-d0f0c5b75596",
   "metadata": {},
   "outputs": [],
   "source": [
    "# Rellenamos los valores nulos con la media de los valores del atributo\n",
    "media_srcbytes = X_train_copy[\"src_bytes\"].mean()\n",
    "media_dstbytes = X_train_copy[\"dst_bytes\"].mean()\n",
    "\n",
    "X_train_copy[\"src_bytes\"] = X_train_copy[\"src_bytes\"].fillna(media_srcbytes)\n",
    "X_train_copy[\"dst_bytes\"] = X_train_copy[\"dst_bytes\"].fillna(media_dstbytes)\n",
    "\n",
    "X_train_copy"
   ]
  },
  {
   "cell_type": "code",
   "execution_count": null,
   "id": "aeb7d628-3195-45c1-a32e-94a57b2d00e0",
   "metadata": {},
   "outputs": [],
   "source": [
    "# Copiamos el conjunto de datos para no alterar el original\n",
    "X_train_copy = X_train.copy()"
   ]
  },
  {
   "cell_type": "code",
   "execution_count": null,
   "id": "f153180b-f229-467d-a149-fd68fc9efdfd",
   "metadata": {},
   "outputs": [],
   "source": [
    "# Un valor muy alto en el atributo puede disparar la media\n",
    "# Rellenamos los valores con la mediana\n",
    "mediana_srcbytes = X_train_copy[\"src_bytes\"].median()\n",
    "mediana_dstbytes = X_train_copy[\"dst_bytes\"].median()\n",
    "\n",
    "X_train_copy[\"src_bytes\"] = X_train_copy[\"src_bytes\"].fillna(mediana_srcbytes)\n",
    "X_train_copy[\"dst_bytes\"] = X_train_copy[\"dst_bytes\"].fillna(mediana_dstbytes)\n",
    "\n",
    "X_train_copy"
   ]
  },
  {
   "cell_type": "code",
   "execution_count": null,
   "id": "d434f84d-4c3a-43c0-94b0-188841f41355",
   "metadata": {},
   "outputs": [],
   "source": []
  },
  {
   "cell_type": "markdown",
   "id": "99443705-b5fa-44a6-8102-c476090c14ad",
   "metadata": {},
   "source": [
    "### Existe otra alternativa para la opción 3 que consiste en usar la clase Imputer de sklearn"
   ]
  },
  {
   "cell_type": "code",
   "execution_count": null,
   "id": "ada0642c-6854-4751-a0e3-39966c7a4e3c",
   "metadata": {},
   "outputs": [],
   "source": [
    "# Copiamos el conjunto de datos para no alterar el original\n",
    "X_train_copy = X_train.copy()"
   ]
  },
  {
   "cell_type": "code",
   "execution_count": null,
   "id": "b8a9601b-3ded-40cb-8f36-03a2e14df119",
   "metadata": {},
   "outputs": [],
   "source": [
    "from sklearn.impute import SimpleImputer\n",
    "\n",
    "imputer = SimpleImputer(strategy=\"median\")"
   ]
  },
  {
   "cell_type": "code",
   "execution_count": null,
   "id": "8a41439c-52cf-4295-98e6-ec2564f19684",
   "metadata": {},
   "outputs": [],
   "source": [
    "# La clase imputer no admite valores categoricos, eliminamos los atributos categoricos\n",
    "X_train_copy_num = X_train_copy.select_dtypes(exclude=['object'])\n",
    "X_train_copy_num.info()"
   ]
  },
  {
   "cell_type": "code",
   "execution_count": null,
   "id": "7b7ffeea-2fbe-4d44-87e8-4cc80477bd99",
   "metadata": {},
   "outputs": [],
   "source": [
    "# Se le proporcionan los atributos numericos para que calcule los valores\n",
    "imputer.fit(X_train_copy_num)"
   ]
  },
  {
   "cell_type": "code",
   "execution_count": null,
   "id": "3d2b1e9d-e8a0-488c-b94e-a8ef66aa26e8",
   "metadata": {},
   "outputs": [],
   "source": [
    "# Rellenamos los valores nulos\n",
    "X_train_copy_num_nonan = imputer.transform(X_train_copy_num)"
   ]
  },
  {
   "cell_type": "code",
   "execution_count": null,
   "id": "70965bb5-ead5-482b-928c-22410f1bd6b5",
   "metadata": {},
   "outputs": [],
   "source": [
    "# Transformamos el resultado a un DataFrame de Pandas\n",
    "X_train_copy = pd.DataFrame(X_train_copy_num_nonan, columns=X_train_copy_num.columns)"
   ]
  },
  {
   "cell_type": "code",
   "execution_count": null,
   "id": "e36e3c31-69d5-4032-af54-20f36e3b496d",
   "metadata": {},
   "outputs": [],
   "source": [
    "X_train_copy.head(10)"
   ]
  },
  {
   "cell_type": "code",
   "execution_count": null,
   "id": "d9994b3f-e561-465d-b9ec-3ff84be8e7f6",
   "metadata": {},
   "outputs": [],
   "source": []
  },
  {
   "cell_type": "markdown",
   "id": "f23574de-7154-4a6a-8f4c-a9c33826fe67",
   "metadata": {},
   "source": [
    "## 4. Transformación de atributos categóricos a numéricos"
   ]
  },
  {
   "cell_type": "code",
   "execution_count": null,
   "id": "f195df6c-64a5-48f6-8ee5-131d349b7668",
   "metadata": {},
   "outputs": [],
   "source": [
    "X_train = train_set.drop(\"class\", axis=1)\n",
    "y_train = train_set[\"class\"].copy()"
   ]
  },
  {
   "cell_type": "code",
   "execution_count": null,
   "id": "dc822f04-31ba-4b60-9cd3-95f6ba014ba9",
   "metadata": {},
   "outputs": [],
   "source": [
    "X_train.info()"
   ]
  },
  {
   "cell_type": "code",
   "execution_count": null,
   "id": "852bd88c-398f-49df-a660-a3d98b24825a",
   "metadata": {},
   "outputs": [],
   "source": [
    "protocol_type = X_train['protocol_type']\n",
    "protocol_type_encoded, categorias = protocol_type.factorize()"
   ]
  },
  {
   "cell_type": "code",
   "execution_count": null,
   "id": "c85882a1-cfb8-4f59-92bf-31ac269b5209",
   "metadata": {},
   "outputs": [],
   "source": [
    "# Mostramos por pantalla como se han codificado\n",
    "for i in range(10):\n",
    "    print(protocol_type.iloc[i], \"=\", protocol_type_encoded[i])"
   ]
  },
  {
   "cell_type": "code",
   "execution_count": null,
   "id": "a6918f89-f8e1-491f-bb26-0d8f14d8c593",
   "metadata": {},
   "outputs": [],
   "source": [
    "print(categorias)"
   ]
  },
  {
   "cell_type": "code",
   "execution_count": null,
   "id": "9c7018e4-766d-42af-b418-09558556ccce",
   "metadata": {},
   "outputs": [],
   "source": [
    "from sklearn.preprocessing import OrdinalEncoder\n",
    "\n",
    "protocol_type = X_train[['protocol_type']]\n",
    "\n",
    "ordinal_encoder = OrdinalEncoder()\n",
    "protocol_type_encoded = ordinal_encoder.fit_transform(protocol_type)"
   ]
  },
  {
   "cell_type": "code",
   "execution_count": null,
   "id": "1fcad6fa-814d-46d5-9489-0c99c64ddce6",
   "metadata": {},
   "outputs": [],
   "source": [
    "# Mostramos por pantalla como se han codificado\n",
    "for i in range(10):\n",
    "    print(protocol_type[\"protocol_type\"].iloc[i], \"=\", protocol_type_encoded[i])"
   ]
  },
  {
   "cell_type": "code",
   "execution_count": null,
   "id": "6a5191f8-5a56-4e7d-b828-34dd0bbec658",
   "metadata": {},
   "outputs": [],
   "source": [
    "print(ordinal_encoder.categories_)"
   ]
  },
  {
   "cell_type": "code",
   "execution_count": null,
   "id": "522073d1-9f49-4946-a84a-0e124ab0be35",
   "metadata": {},
   "outputs": [],
   "source": [
    "# La sparse matrix solo almacena la posicion de los valores que no son '0' para ahorrar memoria\n",
    "from sklearn.preprocessing import OneHotEncoder\n",
    "\n",
    "protocol_type = X_train[['protocol_type']]\n",
    "\n",
    "oh_encoder = OneHotEncoder()\n",
    "protocol_type_oh = oh_encoder.fit_transform(protocol_type)\n",
    "protocol_type_oh"
   ]
  },
  {
   "cell_type": "code",
   "execution_count": null,
   "id": "83bba0da-21c0-4e74-9187-a72f0e53ed8b",
   "metadata": {},
   "outputs": [],
   "source": [
    "# Convertir la sparse matrix a un array de Numpy\n",
    "protocol_type_oh.toarray()"
   ]
  },
  {
   "cell_type": "code",
   "execution_count": null,
   "id": "2a8bc737-bca7-47c3-ae70-68160fc620e4",
   "metadata": {},
   "outputs": [],
   "source": [
    "# Mostramos por pantalla como se han codificado\n",
    "for i in range(10):\n",
    "    print(protocol_type[\"protocol_type\"].iloc[i], \"=\", protocol_type_oh.toarray()[i])"
   ]
  },
  {
   "cell_type": "code",
   "execution_count": null,
   "id": "a15a3d01-6c7e-4b96-b8b9-35cadce1148c",
   "metadata": {},
   "outputs": [],
   "source": [
    "print(ordinal_encoder.categories_)"
   ]
  },
  {
   "cell_type": "code",
   "execution_count": null,
   "id": "65ab3b18-aedc-4e18-bac3-1035869087bf",
   "metadata": {},
   "outputs": [],
   "source": [
    "oh_encoder = OneHotEncoder(handle_unknown='ignore')"
   ]
  },
  {
   "cell_type": "code",
   "execution_count": null,
   "id": "4b6bea24-c5b3-413b-bdfc-762a7c9b7a1d",
   "metadata": {},
   "outputs": [],
   "source": [
    "pd.get_dummies(X_train['protocol_type'])"
   ]
  },
  {
   "cell_type": "code",
   "execution_count": null,
   "id": "ab90f6db-b121-4f33-b809-4cc842d268bf",
   "metadata": {},
   "outputs": [],
   "source": []
  },
  {
   "cell_type": "markdown",
   "id": "34134e7a-e16b-4961-ad8e-e2a246dcf138",
   "metadata": {},
   "source": [
    "## 5. Escalado del conjunto de datos"
   ]
  },
  {
   "cell_type": "code",
   "execution_count": null,
   "id": "681b03e9-e3ad-402a-b572-805d0be1a542",
   "metadata": {},
   "outputs": [],
   "source": [
    "X_train = train_set.drop(\"class\", axis=1)\n",
    "y_train = train_set[\"class\"].copy()"
   ]
  },
  {
   "cell_type": "code",
   "execution_count": null,
   "id": "afa87f24-ecce-4efd-9868-454d8e01ecaf",
   "metadata": {},
   "outputs": [],
   "source": [
    "from sklearn.preprocessing import RobustScaler\n",
    "\n",
    "scale_attrs = X_train[['src_bytes', 'dst_bytes']]\n",
    "\n",
    "robust_scaler = RobustScaler()\n",
    "X_train_scaled = robust_scaler.fit_transform(scale_attrs)\n",
    "\n",
    "X_train_scaled = pd.DataFrame(X_train_scaled, columns=['src_bytes', 'dst_bytes'])"
   ]
  },
  {
   "cell_type": "code",
   "execution_count": null,
   "id": "f78f9a98-7de4-438a-945a-ff62a1fcd93d",
   "metadata": {},
   "outputs": [],
   "source": [
    "X_train_scaled.head(10)"
   ]
  },
  {
   "cell_type": "code",
   "execution_count": null,
   "id": "a45700f1-79ba-40b4-861b-121925e7a1e6",
   "metadata": {},
   "outputs": [],
   "source": [
    "X_train.head(10)"
   ]
  }
 ],
 "metadata": {
  "kernelspec": {
   "display_name": "Python 3 (ipykernel)",
   "language": "python",
   "name": "python3"
  },
  "language_info": {
   "codemirror_mode": {
    "name": "ipython",
    "version": 3
   },
   "file_extension": ".py",
   "mimetype": "text/x-python",
   "name": "python",
   "nbconvert_exporter": "python",
   "pygments_lexer": "ipython3",
   "version": "3.9.19"
  }
 },
 "nbformat": 4,
 "nbformat_minor": 5
}
